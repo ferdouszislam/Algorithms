{
  "nbformat": 4,
  "nbformat_minor": 0,
  "metadata": {
    "colab": {
      "name": "cross_entropy_false_error.ipynb",
      "provenance": [],
      "authorship_tag": "ABX9TyN3/I1lviFRCk9xkyEG99ZV",
      "include_colab_link": true
    },
    "kernelspec": {
      "name": "python3",
      "display_name": "Python 3"
    },
    "language_info": {
      "name": "python"
    }
  },
  "cells": [
    {
      "cell_type": "markdown",
      "metadata": {
        "id": "view-in-github",
        "colab_type": "text"
      },
      "source": [
        "<a href=\"https://colab.research.google.com/github/ferdouszislam/Algorithms/blob/main/cross_entropy_false_error.ipynb\" target=\"_parent\"><img src=\"https://colab.research.google.com/assets/colab-badge.svg\" alt=\"Open In Colab\"/></a>"
      ]
    },
    {
      "cell_type": "code",
      "metadata": {
        "id": "3hg4u5vOI32Z"
      },
      "source": [
        "import torch\n",
        "import torch.nn as nn"
      ],
      "execution_count": 1,
      "outputs": []
    },
    {
      "cell_type": "code",
      "metadata": {
        "id": "Pd5IxhfIJHTS"
      },
      "source": [
        "# Cross Entropy Loss implementation taken from- <https://discuss.pytorch.org/t/how-to-write-custom-crossentropyloss/58072>\n",
        "# modified to create cross_entropy_false_error() function \n",
        "\n",
        "def log_softmax(x):\n",
        "  return x - torch.logsumexp(x,dim=1, keepdim=True)\n",
        "\n",
        "def cross_entropy(outputs, targets):\n",
        "  num_examples = targets.shape[0]\n",
        "  batch_size = outputs.shape[0]\n",
        "  outputs = log_softmax(outputs)\n",
        "  outputs = outputs[range(batch_size), targets]\n",
        "\n",
        "  return - torch.sum(outputs)/num_examples\n",
        "\n",
        "def cross_entropy_false_error(outputs, targets):\n",
        "  #print(outputs, targets)\n",
        "\n",
        "  num_examples = targets.shape[0]\n",
        "  batch_size = outputs.shape[0]\n",
        "  outputs = log_softmax(outputs)\n",
        "  outputs = outputs[range(batch_size), targets]\n",
        "  outputs = -1 * outputs\n",
        "\n",
        "  all_zeroes = torch.zeros_like(targets)\n",
        "  all_ones = torch.ones_like(targets)\n",
        "\n",
        "  label_tensor = torch.full(targets.size(), 0)\n",
        "  class0_pos_mul_tensors = torch.where(targets == label_tensor, all_ones, all_zeroes)\n",
        "  class0_pos_cnt = targets.eq(label_tensor).sum().item()\n",
        "  class0_neg_mul_tensors = torch.where(targets != label_tensor, all_ones, all_zeroes)\n",
        "  class0_neg_cnt = targets.ne(label_tensor).sum().item()\n",
        "\n",
        "  label_tensor = torch.full(targets.size(), 1)\n",
        "  class1_pos_mul_tensors = torch.where(targets == label_tensor, all_ones, all_zeroes)\n",
        "  class1_pos_cnt = targets.eq(label_tensor).sum().item()\n",
        "  class1_neg_mul_tensors = torch.where(targets != label_tensor, all_ones, all_zeroes)\n",
        "  class1_neg_cnt = targets.ne(label_tensor).sum().item()\n",
        "\n",
        "  label_tensor = torch.full(targets.size(), 2)\n",
        "  class2_pos_mul_tensors = torch.where(targets == label_tensor, all_ones, all_zeroes)\n",
        "  class2_pos_cnt = targets.eq(label_tensor).sum().item()\n",
        "  class2_neg_mul_tensors = torch.where(targets != label_tensor, all_ones, all_zeroes)\n",
        "  class2_neg_cnt = targets.ne(label_tensor).sum().item()\n",
        "\n",
        "  label_tensor = torch.full(targets.size(), 3)\n",
        "  class3_pos_mul_tensors = torch.where(targets == label_tensor, all_ones, all_zeroes)\n",
        "  class3_pos_cnt = targets.eq(label_tensor).sum().item()\n",
        "  class3_neg_mul_tensors = torch.where(targets != label_tensor, all_ones, all_zeroes)\n",
        "  class3_neg_cnt = targets.ne(label_tensor).sum().item()\n",
        "\n",
        "  #print(targets)\n",
        "\n",
        "  label_tensor = torch.full(targets.size(), 4)\n",
        "  class4_pos_mul_tensors = torch.where(targets == label_tensor, all_ones, all_zeroes)\n",
        "  class4_pos_cnt = targets.eq(label_tensor).sum().item()\n",
        "  class4_neg_mul_tensors = torch.where(targets != label_tensor, all_ones, all_zeroes)\n",
        "  class4_neg_cnt = targets.ne(label_tensor).sum().item()\n",
        "\n",
        "  # print('\\nclass 4:')\n",
        "  # print(label_tensor)\n",
        "  # print(class4_pos_mul_tensors)\n",
        "  # print(class4_pos_cnt)\n",
        "  # print(class4_neg_mul_tensors)\n",
        "  # print(class4_neg_cnt)\n",
        "\n",
        "  error_sum = 0.0\n",
        "\n",
        "  if class0_pos_cnt != 0: \n",
        "    error_sum += (torch.sum(outputs*class0_pos_mul_tensors)/class0_pos_cnt)\n",
        "  if class0_neg_cnt != 0:\n",
        "    error_sum += (torch.sum(outputs*class0_neg_mul_tensors)/class0_neg_cnt)\n",
        "\n",
        "  if class1_pos_cnt != 0: \n",
        "    error_sum += (torch.sum(outputs*class1_pos_mul_tensors)/class1_pos_cnt)\n",
        "  if class1_neg_cnt != 0:\n",
        "    error_sum += (torch.sum(outputs*class1_neg_mul_tensors)/class1_neg_cnt)\n",
        "\n",
        "  if class2_pos_cnt != 0: \n",
        "    error_sum += (torch.sum(outputs*class2_pos_mul_tensors)/class2_pos_cnt)\n",
        "  if class2_neg_cnt != 0:\n",
        "    error_sum += (torch.sum(outputs*class2_neg_mul_tensors)/class2_neg_cnt)\n",
        "\n",
        "  if class3_pos_cnt != 0: \n",
        "    error_sum += (torch.sum(outputs*class3_pos_mul_tensors)/class3_pos_cnt)\n",
        "  if class3_neg_cnt != 0:\n",
        "    error_sum += (torch.sum(outputs*class3_neg_mul_tensors)/class3_neg_cnt)\n",
        "\n",
        "  if class4_pos_cnt != 0: \n",
        "    error_sum += (torch.sum(outputs*class4_pos_mul_tensors)/class4_pos_cnt)\n",
        "  if class4_neg_cnt != 0:\n",
        "    error_sum += (torch.sum(outputs*class4_neg_mul_tensors)/class4_neg_cnt)\n",
        "\n",
        "  return error_sum / 5"
      ],
      "execution_count": 3,
      "outputs": []
    },
    {
      "cell_type": "code",
      "metadata": {
        "id": "hECco-OFm_b3"
      },
      "source": [
        "outputs = torch.tensor([[300.0, 100.0, 400.0, 100.0, 100.0],\n",
        "                        [100.0, 200.0, 300.0, 200.0, 200.0],\n",
        "                        [300.0, 100.0, 400.0, 100.0, 100.0],\n",
        "                        [50.0, 150.0, 40.0, 300.0, 200.0],\n",
        "                        [300.0, 100.0, 400.0, 100.0, 156.0],\n",
        "                        [205.0, 41.0, 400.0, 62.0, 100.0],\n",
        "                        [30.0, 15.0, 400.0, 600.0, 215.0],\n",
        "                        [300.0, 100.0, 400.0, 100.0, 520.0]], requires_grad=True)\n",
        "labels = torch.tensor([0, 1, 2, 3, 4, 0, 1, 2])"
      ],
      "execution_count": 4,
      "outputs": []
    },
    {
      "cell_type": "code",
      "metadata": {
        "colab": {
          "base_uri": "https://localhost:8080/"
        },
        "id": "RWkMebkR1E_0",
        "outputId": "8b814bca-b112-4e12-9903-9b203228db3c"
      },
      "source": [
        "built_in_ce = nn.CrossEntropyLoss()\n",
        "built_in_ce(outputs, labels)"
      ],
      "execution_count": 5,
      "outputs": [
        {
          "output_type": "execute_result",
          "data": {
            "text/plain": [
              "tensor(168., grad_fn=<NllLossBackward>)"
            ]
          },
          "metadata": {},
          "execution_count": 5
        }
      ]
    },
    {
      "cell_type": "code",
      "metadata": {
        "colab": {
          "base_uri": "https://localhost:8080/"
        },
        "id": "zTCVGX5wyG25",
        "outputId": "da8eade9-277b-45d1-801f-b2ea7bbb7698"
      },
      "source": [
        "cross_entropy(outputs, labels)"
      ],
      "execution_count": 6,
      "outputs": [
        {
          "output_type": "execute_result",
          "data": {
            "text/plain": [
              "tensor(168., grad_fn=<DivBackward0>)"
            ]
          },
          "metadata": {},
          "execution_count": 6
        }
      ]
    },
    {
      "cell_type": "code",
      "metadata": {
        "colab": {
          "base_uri": "https://localhost:8080/"
        },
        "id": "7RpNgh5kyFXn",
        "outputId": "639d6114-26cc-4120-923b-52414e832329"
      },
      "source": [
        "cross_entropy_false_error(outputs, labels)"
      ],
      "execution_count": 7,
      "outputs": [
        {
          "output_type": "execute_result",
          "data": {
            "text/plain": [
              "tensor(326.3619, grad_fn=<DivBackward0>)"
            ]
          },
          "metadata": {},
          "execution_count": 7
        }
      ]
    },
    {
      "cell_type": "code",
      "metadata": {
        "id": "pNR1ApgSqlA_"
      },
      "source": [
        "# label_tensor = torch.full(labels.size(), 4)\n",
        "# #labels.eq(label_tensor).sum()\n",
        "\n",
        "# class4_pos_mul_tensors = torch.where(labels == label_tensor, torch.ones_like(labels), torch.zeros_like(labels))\n",
        "# class4_neg_mul_tensors = torch.where(labels != label_tensor, torch.ones_like(labels), torch.zeros_like(labels))\n",
        "\n",
        "# print(labels, class4_pos_mul_tensors, class4_neg_mul_tensors)"
      ],
      "execution_count": 8,
      "outputs": []
    }
  ]
}